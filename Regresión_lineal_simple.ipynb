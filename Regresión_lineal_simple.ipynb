{
  "nbformat": 4,
  "nbformat_minor": 0,
  "metadata": {
    "colab": {
      "provenance": []
    },
    "kernelspec": {
      "name": "python3",
      "display_name": "Python 3"
    },
    "language_info": {
      "name": "python"
    }
  },
  "cells": [
    {
      "cell_type": "markdown",
      "source": [
        "#**Regresión lineal simple**"
      ],
      "metadata": {
        "id": "qN6TwDPeQLkg"
      }
    },
    {
      "cell_type": "markdown",
      "source": [
        "##**Breve resumen**\n",
        "La siguiente estructura es un archivo \"ipynb\" que importa diferentes librerías para desarrollar un caso de uso de aprendizaje automático. En primer lugar, se importan las librerías necesarias, como \"os\", \"pandas\", \"numpy\", \"sklearn\" y \"statsmodels\". En segundo lugar, se cargan los datos a través de la librería \"pandas\" y se comprueba la cantidad de datos y variables presentes. En tercer lugar, se realiza la preparación de los datos para asegurar que no contienen errores, como datos faltantes o duplicados. Se eliminan los registros con ausencias y duplicados y se comprueba el tamaño del conjunto de datos después de estos pasos de limpieza. Finalmente, se preparan las variables para cumplir con los requerimientos de entrada de los algoritmos de aprendizaje."
      ],
      "metadata": {
        "id": "YARcqrR3PuTJ"
      }
    },
    {
      "cell_type": "markdown",
      "source": [
        "##**Introducción**\n",
        "Este notebook tiene como finalidad realizar una regresión lienal simple con aprendizaje autómatico (\"Machine Learning\" por sus siglas en ingles).\n",
        "\n",
        "La regresión lineal es una técnica estadística que se utiliza para encontrar la mejor línea recta que se ajusta a un conjunto de datos. Esta línea recta se utiliza para hacer predicciones sobre los valores desconocidos de una variable independiente a partir de los valores conocidos de otra variable. La regresión lineal es una herramienta útil para analizar la relación entre variables continuas y para predecir una variable a partir de otra variable.\n",
        "\n",
        "Para esto necesitaremos la librería [scikit-learn](https://scikit-learn.org/stable/). Scikit-learn es una librería de Python para el aprendizaje automático. Incluye una variedad de algoritmos de aprendizaje automático como regresión lineal, regresión logística, árboles de decisión, k-vecinos, entre otros. Además, proporciona funciones para preprocesamiento de datos, como escalado, etiquetado y selección de características. La librería es fácil de usar y está diseñada para ser integrada con otras librerías de Python de ciencia de datos, como [NumPy](https://numpy.org/) y [pandas](https://pandas.pydata.org/).\n",
        "La librería también cuenta con una interfaz uniforme para todos los algoritmos, lo que facilita el uso y la comparación de diferentes algoritmos, para poder elegir el mejor modelo para un conjunto de datos.\n",
        "Scikit-learn es una librería ampliamente utilizada en la industria y en la investigación, y cuenta con una amplia comunidad de desarrolladores y usuarios que contribuyen a su mejora continua."
      ],
      "metadata": {
        "id": "5nQzHcD1Nc0C"
      }
    },
    {
      "cell_type": "markdown",
      "source": [
        "##**1. Importación de librerías**\n",
        "En siguintes líneas de código se importan las librerías y herramientas necesarias para desarrollar el caso de uso:\n",
        "\n",
        "* os: para comandos de sistema\n",
        "* pandas: para manejo de datos\n",
        "* numpy: para manejo de datos numéricos\n",
        "* sklearn.model_selection: para separar el conjunto de aprendizaje en entrenamiento y test\n",
        "* sklearn.linear_model: para construir un modelo con el algoritmo de regresión lineal\n",
        "* sklearn.metrics: para determinar el rendimiento del modelo con las métricas MSE, MAE y R^2\n",
        "* statsmodels.api: para generar un reporte estadístico para determinar las importancia de las variables explicativas."
      ],
      "metadata": {
        "id": "kb9VkhU1ODqB"
      }
    },
    {
      "cell_type": "code",
      "execution_count": 11,
      "metadata": {
        "id": "DVmKos1pu0zP"
      },
      "outputs": [],
      "source": [
        "# Librería para comandos de sistema\n",
        "import os\n",
        "\n",
        "# Librerías para manejo de datos\n",
        "import pandas as pd\n",
        "import numpy as np\n",
        "\n",
        "# Librerías de aprendizaje automático\n",
        "# Para realizar la separación del conjunto de aprendizaje en entrenamiento y test\n",
        "from sklearn.model_selection import train_test_split\n",
        "# Para construir un modelo con el algoritmo de regresión lineal\n",
        "from sklearn.linear_model import LinearRegression\n",
        "# Para determinar el rendimiento del modelo con las métricas MSE, MAE y R2\n",
        "from sklearn.metrics import mean_squared_error, mean_absolute_error, r2_score\n",
        "# Para sacar un reporte estadístico que podemos usar para determinar las importancia de las variables explicativas.\n",
        "import statsmodels.api as sm\n"
      ]
    },
    {
      "cell_type": "markdown",
      "source": [
        "##**2. Carga de los datos**\n",
        "* Se cargan los datos a través de la librería \"pandas\" desde un archivo excel.\n",
        "* Se comprueba la cantidad de datos y variables presentes en los datos.\n",
        "* Se muestran los datos cargados."
      ],
      "metadata": {
        "id": "4m27SKepPgYF"
      }
    },
    {
      "cell_type": "code",
      "source": [
        "# Carga de los datos\n",
        "data = pd.read_csv('insurance.csv')\n",
        "\n",
        "# Verificamos la cantidad de datos y número de variables\n",
        "print(\"Cantidad de datos: \", data.shape[0])\n",
        "print(\"Cantidad de variables: \", data.shape[1])\n",
        "\n",
        "# Mostramos los primeros 5 datos para tener una idea de cómo se ven los datos\n",
        "data.head()\n"
      ],
      "metadata": {
        "colab": {
          "base_uri": "https://localhost:8080/",
          "height": 241
        },
        "id": "_ldQLwG0u_j-",
        "outputId": "82f70ce8-c155-4906-ec95-8413581da604"
      },
      "execution_count": 13,
      "outputs": [
        {
          "output_type": "stream",
          "name": "stdout",
          "text": [
            "Cantidad de datos:  1338\n",
            "Cantidad de variables:  7\n"
          ]
        },
        {
          "output_type": "execute_result",
          "data": {
            "text/plain": [
              "   age     sex     bmi  children smoker     region      charges\n",
              "0   19  female  27.900         0    yes  southwest  16884.92400\n",
              "1   18    male  33.770         1     no  southeast   1725.55230\n",
              "2   28    male  33.000         3     no  southeast   4449.46200\n",
              "3   33    male  22.705         0     no  northwest  21984.47061\n",
              "4   32    male  28.880         0     no  northwest   3866.85520"
            ],
            "text/html": [
              "\n",
              "  <div id=\"df-6f276391-7b6c-45f3-9579-a6f9fde8c9ba\">\n",
              "    <div class=\"colab-df-container\">\n",
              "      <div>\n",
              "<style scoped>\n",
              "    .dataframe tbody tr th:only-of-type {\n",
              "        vertical-align: middle;\n",
              "    }\n",
              "\n",
              "    .dataframe tbody tr th {\n",
              "        vertical-align: top;\n",
              "    }\n",
              "\n",
              "    .dataframe thead th {\n",
              "        text-align: right;\n",
              "    }\n",
              "</style>\n",
              "<table border=\"1\" class=\"dataframe\">\n",
              "  <thead>\n",
              "    <tr style=\"text-align: right;\">\n",
              "      <th></th>\n",
              "      <th>age</th>\n",
              "      <th>sex</th>\n",
              "      <th>bmi</th>\n",
              "      <th>children</th>\n",
              "      <th>smoker</th>\n",
              "      <th>region</th>\n",
              "      <th>charges</th>\n",
              "    </tr>\n",
              "  </thead>\n",
              "  <tbody>\n",
              "    <tr>\n",
              "      <th>0</th>\n",
              "      <td>19</td>\n",
              "      <td>female</td>\n",
              "      <td>27.900</td>\n",
              "      <td>0</td>\n",
              "      <td>yes</td>\n",
              "      <td>southwest</td>\n",
              "      <td>16884.92400</td>\n",
              "    </tr>\n",
              "    <tr>\n",
              "      <th>1</th>\n",
              "      <td>18</td>\n",
              "      <td>male</td>\n",
              "      <td>33.770</td>\n",
              "      <td>1</td>\n",
              "      <td>no</td>\n",
              "      <td>southeast</td>\n",
              "      <td>1725.55230</td>\n",
              "    </tr>\n",
              "    <tr>\n",
              "      <th>2</th>\n",
              "      <td>28</td>\n",
              "      <td>male</td>\n",
              "      <td>33.000</td>\n",
              "      <td>3</td>\n",
              "      <td>no</td>\n",
              "      <td>southeast</td>\n",
              "      <td>4449.46200</td>\n",
              "    </tr>\n",
              "    <tr>\n",
              "      <th>3</th>\n",
              "      <td>33</td>\n",
              "      <td>male</td>\n",
              "      <td>22.705</td>\n",
              "      <td>0</td>\n",
              "      <td>no</td>\n",
              "      <td>northwest</td>\n",
              "      <td>21984.47061</td>\n",
              "    </tr>\n",
              "    <tr>\n",
              "      <th>4</th>\n",
              "      <td>32</td>\n",
              "      <td>male</td>\n",
              "      <td>28.880</td>\n",
              "      <td>0</td>\n",
              "      <td>no</td>\n",
              "      <td>northwest</td>\n",
              "      <td>3866.85520</td>\n",
              "    </tr>\n",
              "  </tbody>\n",
              "</table>\n",
              "</div>\n",
              "      <button class=\"colab-df-convert\" onclick=\"convertToInteractive('df-6f276391-7b6c-45f3-9579-a6f9fde8c9ba')\"\n",
              "              title=\"Convert this dataframe to an interactive table.\"\n",
              "              style=\"display:none;\">\n",
              "        \n",
              "  <svg xmlns=\"http://www.w3.org/2000/svg\" height=\"24px\"viewBox=\"0 0 24 24\"\n",
              "       width=\"24px\">\n",
              "    <path d=\"M0 0h24v24H0V0z\" fill=\"none\"/>\n",
              "    <path d=\"M18.56 5.44l.94 2.06.94-2.06 2.06-.94-2.06-.94-.94-2.06-.94 2.06-2.06.94zm-11 1L8.5 8.5l.94-2.06 2.06-.94-2.06-.94L8.5 2.5l-.94 2.06-2.06.94zm10 10l.94 2.06.94-2.06 2.06-.94-2.06-.94-.94-2.06-.94 2.06-2.06.94z\"/><path d=\"M17.41 7.96l-1.37-1.37c-.4-.4-.92-.59-1.43-.59-.52 0-1.04.2-1.43.59L10.3 9.45l-7.72 7.72c-.78.78-.78 2.05 0 2.83L4 21.41c.39.39.9.59 1.41.59.51 0 1.02-.2 1.41-.59l7.78-7.78 2.81-2.81c.8-.78.8-2.07 0-2.86zM5.41 20L4 18.59l7.72-7.72 1.47 1.35L5.41 20z\"/>\n",
              "  </svg>\n",
              "      </button>\n",
              "      \n",
              "  <style>\n",
              "    .colab-df-container {\n",
              "      display:flex;\n",
              "      flex-wrap:wrap;\n",
              "      gap: 12px;\n",
              "    }\n",
              "\n",
              "    .colab-df-convert {\n",
              "      background-color: #E8F0FE;\n",
              "      border: none;\n",
              "      border-radius: 50%;\n",
              "      cursor: pointer;\n",
              "      display: none;\n",
              "      fill: #1967D2;\n",
              "      height: 32px;\n",
              "      padding: 0 0 0 0;\n",
              "      width: 32px;\n",
              "    }\n",
              "\n",
              "    .colab-df-convert:hover {\n",
              "      background-color: #E2EBFA;\n",
              "      box-shadow: 0px 1px 2px rgba(60, 64, 67, 0.3), 0px 1px 3px 1px rgba(60, 64, 67, 0.15);\n",
              "      fill: #174EA6;\n",
              "    }\n",
              "\n",
              "    [theme=dark] .colab-df-convert {\n",
              "      background-color: #3B4455;\n",
              "      fill: #D2E3FC;\n",
              "    }\n",
              "\n",
              "    [theme=dark] .colab-df-convert:hover {\n",
              "      background-color: #434B5C;\n",
              "      box-shadow: 0px 1px 3px 1px rgba(0, 0, 0, 0.15);\n",
              "      filter: drop-shadow(0px 1px 2px rgba(0, 0, 0, 0.3));\n",
              "      fill: #FFFFFF;\n",
              "    }\n",
              "  </style>\n",
              "\n",
              "      <script>\n",
              "        const buttonEl =\n",
              "          document.querySelector('#df-6f276391-7b6c-45f3-9579-a6f9fde8c9ba button.colab-df-convert');\n",
              "        buttonEl.style.display =\n",
              "          google.colab.kernel.accessAllowed ? 'block' : 'none';\n",
              "\n",
              "        async function convertToInteractive(key) {\n",
              "          const element = document.querySelector('#df-6f276391-7b6c-45f3-9579-a6f9fde8c9ba');\n",
              "          const dataTable =\n",
              "            await google.colab.kernel.invokeFunction('convertToInteractive',\n",
              "                                                     [key], {});\n",
              "          if (!dataTable) return;\n",
              "\n",
              "          const docLinkHtml = 'Like what you see? Visit the ' +\n",
              "            '<a target=\"_blank\" href=https://colab.research.google.com/notebooks/data_table.ipynb>data table notebook</a>'\n",
              "            + ' to learn more about interactive tables.';\n",
              "          element.innerHTML = '';\n",
              "          dataTable['output_type'] = 'display_data';\n",
              "          await google.colab.output.renderOutput(dataTable, element);\n",
              "          const docLink = document.createElement('div');\n",
              "          docLink.innerHTML = docLinkHtml;\n",
              "          element.appendChild(docLink);\n",
              "        }\n",
              "      </script>\n",
              "    </div>\n",
              "  </div>\n",
              "  "
            ]
          },
          "metadata": {},
          "execution_count": 13
        }
      ]
    },
    {
      "cell_type": "markdown",
      "source": [
        "##**3. Preparación de los datos**\n",
        "* Se observa las características generales de los datos\n",
        "* Se realizan comprobaciones para asegurar que los datos no contienen errores como datos faltantes o duplicados.\n",
        "* Se eliminan los registros con ausencias y duplicados.\n",
        "* Se comprueba el tamaño del conjunto de datos después de estos pasos de limpieza.\n",
        "* Se preparan las variables para cumplir con los requerimientos de entrada de los algoritmos de aprendizaje.\n",
        "(No se especifica qué pasos adicionales se realizan en esta sección)\n"
      ],
      "metadata": {
        "id": "5LaRO4v6Q93x"
      }
    },
    {
      "cell_type": "code",
      "source": [
        "# Para ver las caracteríticas generales de los datos, \n",
        "# usamos la siguiente instrucción\n",
        "data.info()\n",
        "# Con esta instrucción podemos ver el nombre de nuestras columnas,\n",
        "# También se observa se tienen o no datos vacíos, \n",
        "# el número de filas y columnas, y el tipo de datos"
      ],
      "metadata": {
        "colab": {
          "base_uri": "https://localhost:8080/"
        },
        "id": "jL3_uqftgYpz",
        "outputId": "4cff1afa-3241-427a-86bc-edd52592c452"
      },
      "execution_count": 21,
      "outputs": [
        {
          "output_type": "stream",
          "name": "stdout",
          "text": [
            "<class 'pandas.core.frame.DataFrame'>\n",
            "RangeIndex: 1338 entries, 0 to 1337\n",
            "Data columns (total 7 columns):\n",
            " #   Column    Non-Null Count  Dtype  \n",
            "---  ------    --------------  -----  \n",
            " 0   age       1338 non-null   int64  \n",
            " 1   sex       1338 non-null   object \n",
            " 2   bmi       1338 non-null   float64\n",
            " 3   children  1338 non-null   int64  \n",
            " 4   smoker    1338 non-null   object \n",
            " 5   region    1338 non-null   object \n",
            " 6   charges   1338 non-null   float64\n",
            "dtypes: float64(2), int64(2), object(3)\n",
            "memory usage: 73.3+ KB\n"
          ]
        }
      ]
    },
    {
      "cell_type": "markdown",
      "source": [
        "Desde aquí podemos ir observando que se requeriran varios cambios, en principio cambiar el nombre de las columnas y traducirlas al español.\n",
        "A pesar de que no tenemos datos faltantes ejecutaremos las instrucciónes pertinenetes para cuando ocurra el caso, puedas hacerlo.\n",
        "Recordemos que, la regresión lineal simple ocupa datos númericos por lo que habrá que convetir a variables dummies, nuestras variables categorícas.\n",
        "Como breve recordatorio:\n",
        "* int = números enteros\n",
        "* float = números con decímales\n",
        "* object = En este caso obedece a variables categoricas\n"
      ],
      "metadata": {
        "id": "Ve8S4ZqRmB2_"
      }
    },
    {
      "cell_type": "code",
      "source": [
        "# Debe tomarse en cuenta que resulta optimo realizar el procesamiento de datos \n",
        "# sobre una copia de la variable original\n",
        "data_j = data"
      ],
      "metadata": {
        "id": "aRxk_rjjlc6q"
      },
      "execution_count": 22,
      "outputs": []
    },
    {
      "cell_type": "code",
      "source": [
        "# Iniciamos cambiando el nombre de las variables donde:\n",
        "#   age = edad\n",
        "#   sex = sexo\n",
        "#   ibm = imc (indice de masa corporal)\n",
        "#   children = hijos (número de hijos)\n",
        "#   smoker = fumador (idicador de si es fumador)\n",
        "#   region = region (región donde vive)\n",
        "#   charges = prima (prima del seguro)\n",
        "data_j.columns = ['edad', 'sexo', 'imc', 'hijos', 'fumador', 'region', 'prima']\n",
        "data_j.head()"
      ],
      "metadata": {
        "colab": {
          "base_uri": "https://localhost:8080/",
          "height": 206
        },
        "id": "CDBJdzY9gtx6",
        "outputId": "0676b90b-4d5d-40da-811b-70bb52e98b1b"
      },
      "execution_count": 23,
      "outputs": [
        {
          "output_type": "execute_result",
          "data": {
            "text/plain": [
              "   edad    sexo     imc  hijos fumador     region        prima\n",
              "0    19  female  27.900      0     yes  southwest  16884.92400\n",
              "1    18    male  33.770      1      no  southeast   1725.55230\n",
              "2    28    male  33.000      3      no  southeast   4449.46200\n",
              "3    33    male  22.705      0      no  northwest  21984.47061\n",
              "4    32    male  28.880      0      no  northwest   3866.85520"
            ],
            "text/html": [
              "\n",
              "  <div id=\"df-b5cf937d-a895-4636-850f-17234a95e9c2\">\n",
              "    <div class=\"colab-df-container\">\n",
              "      <div>\n",
              "<style scoped>\n",
              "    .dataframe tbody tr th:only-of-type {\n",
              "        vertical-align: middle;\n",
              "    }\n",
              "\n",
              "    .dataframe tbody tr th {\n",
              "        vertical-align: top;\n",
              "    }\n",
              "\n",
              "    .dataframe thead th {\n",
              "        text-align: right;\n",
              "    }\n",
              "</style>\n",
              "<table border=\"1\" class=\"dataframe\">\n",
              "  <thead>\n",
              "    <tr style=\"text-align: right;\">\n",
              "      <th></th>\n",
              "      <th>edad</th>\n",
              "      <th>sexo</th>\n",
              "      <th>imc</th>\n",
              "      <th>hijos</th>\n",
              "      <th>fumador</th>\n",
              "      <th>region</th>\n",
              "      <th>prima</th>\n",
              "    </tr>\n",
              "  </thead>\n",
              "  <tbody>\n",
              "    <tr>\n",
              "      <th>0</th>\n",
              "      <td>19</td>\n",
              "      <td>female</td>\n",
              "      <td>27.900</td>\n",
              "      <td>0</td>\n",
              "      <td>yes</td>\n",
              "      <td>southwest</td>\n",
              "      <td>16884.92400</td>\n",
              "    </tr>\n",
              "    <tr>\n",
              "      <th>1</th>\n",
              "      <td>18</td>\n",
              "      <td>male</td>\n",
              "      <td>33.770</td>\n",
              "      <td>1</td>\n",
              "      <td>no</td>\n",
              "      <td>southeast</td>\n",
              "      <td>1725.55230</td>\n",
              "    </tr>\n",
              "    <tr>\n",
              "      <th>2</th>\n",
              "      <td>28</td>\n",
              "      <td>male</td>\n",
              "      <td>33.000</td>\n",
              "      <td>3</td>\n",
              "      <td>no</td>\n",
              "      <td>southeast</td>\n",
              "      <td>4449.46200</td>\n",
              "    </tr>\n",
              "    <tr>\n",
              "      <th>3</th>\n",
              "      <td>33</td>\n",
              "      <td>male</td>\n",
              "      <td>22.705</td>\n",
              "      <td>0</td>\n",
              "      <td>no</td>\n",
              "      <td>northwest</td>\n",
              "      <td>21984.47061</td>\n",
              "    </tr>\n",
              "    <tr>\n",
              "      <th>4</th>\n",
              "      <td>32</td>\n",
              "      <td>male</td>\n",
              "      <td>28.880</td>\n",
              "      <td>0</td>\n",
              "      <td>no</td>\n",
              "      <td>northwest</td>\n",
              "      <td>3866.85520</td>\n",
              "    </tr>\n",
              "  </tbody>\n",
              "</table>\n",
              "</div>\n",
              "      <button class=\"colab-df-convert\" onclick=\"convertToInteractive('df-b5cf937d-a895-4636-850f-17234a95e9c2')\"\n",
              "              title=\"Convert this dataframe to an interactive table.\"\n",
              "              style=\"display:none;\">\n",
              "        \n",
              "  <svg xmlns=\"http://www.w3.org/2000/svg\" height=\"24px\"viewBox=\"0 0 24 24\"\n",
              "       width=\"24px\">\n",
              "    <path d=\"M0 0h24v24H0V0z\" fill=\"none\"/>\n",
              "    <path d=\"M18.56 5.44l.94 2.06.94-2.06 2.06-.94-2.06-.94-.94-2.06-.94 2.06-2.06.94zm-11 1L8.5 8.5l.94-2.06 2.06-.94-2.06-.94L8.5 2.5l-.94 2.06-2.06.94zm10 10l.94 2.06.94-2.06 2.06-.94-2.06-.94-.94-2.06-.94 2.06-2.06.94z\"/><path d=\"M17.41 7.96l-1.37-1.37c-.4-.4-.92-.59-1.43-.59-.52 0-1.04.2-1.43.59L10.3 9.45l-7.72 7.72c-.78.78-.78 2.05 0 2.83L4 21.41c.39.39.9.59 1.41.59.51 0 1.02-.2 1.41-.59l7.78-7.78 2.81-2.81c.8-.78.8-2.07 0-2.86zM5.41 20L4 18.59l7.72-7.72 1.47 1.35L5.41 20z\"/>\n",
              "  </svg>\n",
              "      </button>\n",
              "      \n",
              "  <style>\n",
              "    .colab-df-container {\n",
              "      display:flex;\n",
              "      flex-wrap:wrap;\n",
              "      gap: 12px;\n",
              "    }\n",
              "\n",
              "    .colab-df-convert {\n",
              "      background-color: #E8F0FE;\n",
              "      border: none;\n",
              "      border-radius: 50%;\n",
              "      cursor: pointer;\n",
              "      display: none;\n",
              "      fill: #1967D2;\n",
              "      height: 32px;\n",
              "      padding: 0 0 0 0;\n",
              "      width: 32px;\n",
              "    }\n",
              "\n",
              "    .colab-df-convert:hover {\n",
              "      background-color: #E2EBFA;\n",
              "      box-shadow: 0px 1px 2px rgba(60, 64, 67, 0.3), 0px 1px 3px 1px rgba(60, 64, 67, 0.15);\n",
              "      fill: #174EA6;\n",
              "    }\n",
              "\n",
              "    [theme=dark] .colab-df-convert {\n",
              "      background-color: #3B4455;\n",
              "      fill: #D2E3FC;\n",
              "    }\n",
              "\n",
              "    [theme=dark] .colab-df-convert:hover {\n",
              "      background-color: #434B5C;\n",
              "      box-shadow: 0px 1px 3px 1px rgba(0, 0, 0, 0.15);\n",
              "      filter: drop-shadow(0px 1px 2px rgba(0, 0, 0, 0.3));\n",
              "      fill: #FFFFFF;\n",
              "    }\n",
              "  </style>\n",
              "\n",
              "      <script>\n",
              "        const buttonEl =\n",
              "          document.querySelector('#df-b5cf937d-a895-4636-850f-17234a95e9c2 button.colab-df-convert');\n",
              "        buttonEl.style.display =\n",
              "          google.colab.kernel.accessAllowed ? 'block' : 'none';\n",
              "\n",
              "        async function convertToInteractive(key) {\n",
              "          const element = document.querySelector('#df-b5cf937d-a895-4636-850f-17234a95e9c2');\n",
              "          const dataTable =\n",
              "            await google.colab.kernel.invokeFunction('convertToInteractive',\n",
              "                                                     [key], {});\n",
              "          if (!dataTable) return;\n",
              "\n",
              "          const docLinkHtml = 'Like what you see? Visit the ' +\n",
              "            '<a target=\"_blank\" href=https://colab.research.google.com/notebooks/data_table.ipynb>data table notebook</a>'\n",
              "            + ' to learn more about interactive tables.';\n",
              "          element.innerHTML = '';\n",
              "          dataTable['output_type'] = 'display_data';\n",
              "          await google.colab.output.renderOutput(dataTable, element);\n",
              "          const docLink = document.createElement('div');\n",
              "          docLink.innerHTML = docLinkHtml;\n",
              "          element.appendChild(docLink);\n",
              "        }\n",
              "      </script>\n",
              "    </div>\n",
              "  </div>\n",
              "  "
            ]
          },
          "metadata": {},
          "execution_count": 23
        }
      ]
    },
    {
      "cell_type": "code",
      "source": [
        "# Observamos si nuestras variables tienen ausencias en de valores \n",
        "print(data_j.isna().sum()/len(data_j))"
      ],
      "metadata": {
        "colab": {
          "base_uri": "https://localhost:8080/"
        },
        "id": "siFh88uGRzVL",
        "outputId": "0e99211e-c4cd-41cc-f94e-170a9233548a"
      },
      "execution_count": 24,
      "outputs": [
        {
          "output_type": "stream",
          "name": "stdout",
          "text": [
            "edad       0.0\n",
            "sexo       0.0\n",
            "imc        0.0\n",
            "hijos      0.0\n",
            "fumador    0.0\n",
            "region     0.0\n",
            "prima      0.0\n",
            "dtype: float64\n"
          ]
        }
      ]
    },
    {
      "cell_type": "code",
      "source": [
        "# En este caso en particular nuestra base de datos no posee valores vacíos.\n",
        "# Sin embargo, se utilizaria el siguiente código sobre la base de datos si existiesen.\n",
        "\"data_t=data_j.dropna()\""
      ],
      "metadata": {
        "colab": {
          "base_uri": "https://localhost:8080/",
          "height": 36
        },
        "id": "YeP-_gtcZXpJ",
        "outputId": "9b35549a-a28c-47e8-947c-d8aa7566c8c5"
      },
      "execution_count": 25,
      "outputs": [
        {
          "output_type": "execute_result",
          "data": {
            "text/plain": [
              "'data_t=data_j.dropna()'"
            ],
            "application/vnd.google.colaboratory.intrinsic+json": {
              "type": "string"
            }
          },
          "metadata": {},
          "execution_count": 25
        }
      ]
    },
    {
      "cell_type": "code",
      "source": [
        "# Verificamos el tamaño del conjunto de datos después de este paso de limpieza de datos.\n",
        "print(\"Cantidad de datos después de eliminar ausencias: \", data_j.shape[0])\n",
        "# Naturalmente al no haber datos vacíos la base de datos seguirá con el mismo número de entradas"
      ],
      "metadata": {
        "colab": {
          "base_uri": "https://localhost:8080/"
        },
        "id": "E-z0eoqRaIb-",
        "outputId": "f18bf957-353b-4171-818b-1c833f5cbf64"
      },
      "execution_count": 26,
      "outputs": [
        {
          "output_type": "stream",
          "name": "stdout",
          "text": [
            "Cantidad de datos después de eliminar ausencias:  1338\n"
          ]
        }
      ]
    },
    {
      "cell_type": "code",
      "source": [
        "# En la exploración de datos suele mostrase si hay datos duplicados,\n",
        "# sin embargo, en este no es el caso, aún así cuando esto se presente,\n",
        "# podemos usar la siguiente instrucción\n",
        "\"data_j=data_j.drop_duplicates()\"\n",
        "# y nuevamente observamos el tamaño del conjunto de datos después de este paso de limpieza de datos.\n",
        "print(\"Cantidad de datos después de eliminar duplicados: \", data_j.shape[0])"
      ],
      "metadata": {
        "colab": {
          "base_uri": "https://localhost:8080/"
        },
        "id": "MGGdQC8yaaNN",
        "outputId": "9996077d-a2c1-4957-95dd-2944b223ca20"
      },
      "execution_count": 27,
      "outputs": [
        {
          "output_type": "stream",
          "name": "stdout",
          "text": [
            "Cantidad de datos después de eliminar duplicados:  1338\n"
          ]
        }
      ]
    },
    {
      "cell_type": "markdown",
      "source": [
        "Un aspecto muy importante para tener en cuenta son los requerimientos de entrada de los algoritmos de aprendizaje. \n",
        "Cada uno de estos puede trabajar con un tipo de variable. \n",
        "Por ejemplo, para el algoritmo de regresión lineal todas las variables en el conjunto de datos deben ser numéricas. \n",
        "¿Que pasa si en el conjunto de datos hay variables categóricas? \n",
        "Pues se debe realizar una transformación de estas variables a un formato numérico.\n"
      ],
      "metadata": {
        "id": "_5G-MVqAgDeM"
      }
    },
    {
      "cell_type": "code",
      "source": [
        "# Hay 3 variables de tipo categorico \"sexo, fumador y región\"\n",
        "# Se muestran las categorías de la variable \"sexo\" con sus frecuencias\n",
        "print(pd.value_counts(data_j['sexo']))"
      ],
      "metadata": {
        "colab": {
          "base_uri": "https://localhost:8080/"
        },
        "id": "fJdgo9kepFhK",
        "outputId": "c199939b-6511-4c87-f990-a1a1aae59c4d"
      },
      "execution_count": 31,
      "outputs": [
        {
          "output_type": "stream",
          "name": "stdout",
          "text": [
            "male      676\n",
            "female    662\n",
            "Name: sexo, dtype: int64\n"
          ]
        }
      ]
    },
    {
      "cell_type": "code",
      "source": [
        "# Se muestran las categorías de la variable \"fumador\" con sus frecuencias\n",
        "print(pd.value_counts(data_j['fumador']))"
      ],
      "metadata": {
        "colab": {
          "base_uri": "https://localhost:8080/"
        },
        "id": "oVlwWyrfpJbo",
        "outputId": "333c084c-a57f-4661-a928-350367a8c44a"
      },
      "execution_count": 30,
      "outputs": [
        {
          "output_type": "stream",
          "name": "stdout",
          "text": [
            "no     1064\n",
            "yes     274\n",
            "Name: fumador, dtype: int64\n"
          ]
        }
      ]
    },
    {
      "cell_type": "code",
      "source": [
        "# Se muestran las categorías de la variable \"region\" con sus frecuencias\n",
        "print(pd.value_counts(data['region']))"
      ],
      "metadata": {
        "colab": {
          "base_uri": "https://localhost:8080/"
        },
        "id": "eny2HrGxpd7-",
        "outputId": "f398c2aa-f200-418e-f1e8-36c0ba190e89"
      },
      "execution_count": 32,
      "outputs": [
        {
          "output_type": "stream",
          "name": "stdout",
          "text": [
            "southeast    364\n",
            "southwest    325\n",
            "northwest    325\n",
            "northeast    324\n",
            "Name: region, dtype: int64\n"
          ]
        }
      ]
    },
    {
      "cell_type": "code",
      "source": [
        "# Realizamos la transformación de las variables categóricas a variables dummies\n",
        "data_j = pd.get_dummies(data_j, columns=[\"sexo\", \"fumador\", \"region\"])\n",
        "\n",
        "# Mostramos las primeras filas de este nuevo conjunto de datos\n",
        "data_j.head()"
      ],
      "metadata": {
        "colab": {
          "base_uri": "https://localhost:8080/",
          "height": 270
        },
        "id": "WyhL8thbpmcr",
        "outputId": "dbeee2c6-fbc6-4ff2-8245-fc839f699e73"
      },
      "execution_count": 33,
      "outputs": [
        {
          "output_type": "execute_result",
          "data": {
            "text/plain": [
              "   edad     imc  hijos        prima  sexo_female  sexo_male  fumador_no  \\\n",
              "0    19  27.900      0  16884.92400            1          0           0   \n",
              "1    18  33.770      1   1725.55230            0          1           1   \n",
              "2    28  33.000      3   4449.46200            0          1           1   \n",
              "3    33  22.705      0  21984.47061            0          1           1   \n",
              "4    32  28.880      0   3866.85520            0          1           1   \n",
              "\n",
              "   fumador_yes  region_northeast  region_northwest  region_southeast  \\\n",
              "0            1                 0                 0                 0   \n",
              "1            0                 0                 0                 1   \n",
              "2            0                 0                 0                 1   \n",
              "3            0                 0                 1                 0   \n",
              "4            0                 0                 1                 0   \n",
              "\n",
              "   region_southwest  \n",
              "0                 1  \n",
              "1                 0  \n",
              "2                 0  \n",
              "3                 0  \n",
              "4                 0  "
            ],
            "text/html": [
              "\n",
              "  <div id=\"df-e6b5e919-09c6-490a-915c-0c1e87bfe341\">\n",
              "    <div class=\"colab-df-container\">\n",
              "      <div>\n",
              "<style scoped>\n",
              "    .dataframe tbody tr th:only-of-type {\n",
              "        vertical-align: middle;\n",
              "    }\n",
              "\n",
              "    .dataframe tbody tr th {\n",
              "        vertical-align: top;\n",
              "    }\n",
              "\n",
              "    .dataframe thead th {\n",
              "        text-align: right;\n",
              "    }\n",
              "</style>\n",
              "<table border=\"1\" class=\"dataframe\">\n",
              "  <thead>\n",
              "    <tr style=\"text-align: right;\">\n",
              "      <th></th>\n",
              "      <th>edad</th>\n",
              "      <th>imc</th>\n",
              "      <th>hijos</th>\n",
              "      <th>prima</th>\n",
              "      <th>sexo_female</th>\n",
              "      <th>sexo_male</th>\n",
              "      <th>fumador_no</th>\n",
              "      <th>fumador_yes</th>\n",
              "      <th>region_northeast</th>\n",
              "      <th>region_northwest</th>\n",
              "      <th>region_southeast</th>\n",
              "      <th>region_southwest</th>\n",
              "    </tr>\n",
              "  </thead>\n",
              "  <tbody>\n",
              "    <tr>\n",
              "      <th>0</th>\n",
              "      <td>19</td>\n",
              "      <td>27.900</td>\n",
              "      <td>0</td>\n",
              "      <td>16884.92400</td>\n",
              "      <td>1</td>\n",
              "      <td>0</td>\n",
              "      <td>0</td>\n",
              "      <td>1</td>\n",
              "      <td>0</td>\n",
              "      <td>0</td>\n",
              "      <td>0</td>\n",
              "      <td>1</td>\n",
              "    </tr>\n",
              "    <tr>\n",
              "      <th>1</th>\n",
              "      <td>18</td>\n",
              "      <td>33.770</td>\n",
              "      <td>1</td>\n",
              "      <td>1725.55230</td>\n",
              "      <td>0</td>\n",
              "      <td>1</td>\n",
              "      <td>1</td>\n",
              "      <td>0</td>\n",
              "      <td>0</td>\n",
              "      <td>0</td>\n",
              "      <td>1</td>\n",
              "      <td>0</td>\n",
              "    </tr>\n",
              "    <tr>\n",
              "      <th>2</th>\n",
              "      <td>28</td>\n",
              "      <td>33.000</td>\n",
              "      <td>3</td>\n",
              "      <td>4449.46200</td>\n",
              "      <td>0</td>\n",
              "      <td>1</td>\n",
              "      <td>1</td>\n",
              "      <td>0</td>\n",
              "      <td>0</td>\n",
              "      <td>0</td>\n",
              "      <td>1</td>\n",
              "      <td>0</td>\n",
              "    </tr>\n",
              "    <tr>\n",
              "      <th>3</th>\n",
              "      <td>33</td>\n",
              "      <td>22.705</td>\n",
              "      <td>0</td>\n",
              "      <td>21984.47061</td>\n",
              "      <td>0</td>\n",
              "      <td>1</td>\n",
              "      <td>1</td>\n",
              "      <td>0</td>\n",
              "      <td>0</td>\n",
              "      <td>1</td>\n",
              "      <td>0</td>\n",
              "      <td>0</td>\n",
              "    </tr>\n",
              "    <tr>\n",
              "      <th>4</th>\n",
              "      <td>32</td>\n",
              "      <td>28.880</td>\n",
              "      <td>0</td>\n",
              "      <td>3866.85520</td>\n",
              "      <td>0</td>\n",
              "      <td>1</td>\n",
              "      <td>1</td>\n",
              "      <td>0</td>\n",
              "      <td>0</td>\n",
              "      <td>1</td>\n",
              "      <td>0</td>\n",
              "      <td>0</td>\n",
              "    </tr>\n",
              "  </tbody>\n",
              "</table>\n",
              "</div>\n",
              "      <button class=\"colab-df-convert\" onclick=\"convertToInteractive('df-e6b5e919-09c6-490a-915c-0c1e87bfe341')\"\n",
              "              title=\"Convert this dataframe to an interactive table.\"\n",
              "              style=\"display:none;\">\n",
              "        \n",
              "  <svg xmlns=\"http://www.w3.org/2000/svg\" height=\"24px\"viewBox=\"0 0 24 24\"\n",
              "       width=\"24px\">\n",
              "    <path d=\"M0 0h24v24H0V0z\" fill=\"none\"/>\n",
              "    <path d=\"M18.56 5.44l.94 2.06.94-2.06 2.06-.94-2.06-.94-.94-2.06-.94 2.06-2.06.94zm-11 1L8.5 8.5l.94-2.06 2.06-.94-2.06-.94L8.5 2.5l-.94 2.06-2.06.94zm10 10l.94 2.06.94-2.06 2.06-.94-2.06-.94-.94-2.06-.94 2.06-2.06.94z\"/><path d=\"M17.41 7.96l-1.37-1.37c-.4-.4-.92-.59-1.43-.59-.52 0-1.04.2-1.43.59L10.3 9.45l-7.72 7.72c-.78.78-.78 2.05 0 2.83L4 21.41c.39.39.9.59 1.41.59.51 0 1.02-.2 1.41-.59l7.78-7.78 2.81-2.81c.8-.78.8-2.07 0-2.86zM5.41 20L4 18.59l7.72-7.72 1.47 1.35L5.41 20z\"/>\n",
              "  </svg>\n",
              "      </button>\n",
              "      \n",
              "  <style>\n",
              "    .colab-df-container {\n",
              "      display:flex;\n",
              "      flex-wrap:wrap;\n",
              "      gap: 12px;\n",
              "    }\n",
              "\n",
              "    .colab-df-convert {\n",
              "      background-color: #E8F0FE;\n",
              "      border: none;\n",
              "      border-radius: 50%;\n",
              "      cursor: pointer;\n",
              "      display: none;\n",
              "      fill: #1967D2;\n",
              "      height: 32px;\n",
              "      padding: 0 0 0 0;\n",
              "      width: 32px;\n",
              "    }\n",
              "\n",
              "    .colab-df-convert:hover {\n",
              "      background-color: #E2EBFA;\n",
              "      box-shadow: 0px 1px 2px rgba(60, 64, 67, 0.3), 0px 1px 3px 1px rgba(60, 64, 67, 0.15);\n",
              "      fill: #174EA6;\n",
              "    }\n",
              "\n",
              "    [theme=dark] .colab-df-convert {\n",
              "      background-color: #3B4455;\n",
              "      fill: #D2E3FC;\n",
              "    }\n",
              "\n",
              "    [theme=dark] .colab-df-convert:hover {\n",
              "      background-color: #434B5C;\n",
              "      box-shadow: 0px 1px 3px 1px rgba(0, 0, 0, 0.15);\n",
              "      filter: drop-shadow(0px 1px 2px rgba(0, 0, 0, 0.3));\n",
              "      fill: #FFFFFF;\n",
              "    }\n",
              "  </style>\n",
              "\n",
              "      <script>\n",
              "        const buttonEl =\n",
              "          document.querySelector('#df-e6b5e919-09c6-490a-915c-0c1e87bfe341 button.colab-df-convert');\n",
              "        buttonEl.style.display =\n",
              "          google.colab.kernel.accessAllowed ? 'block' : 'none';\n",
              "\n",
              "        async function convertToInteractive(key) {\n",
              "          const element = document.querySelector('#df-e6b5e919-09c6-490a-915c-0c1e87bfe341');\n",
              "          const dataTable =\n",
              "            await google.colab.kernel.invokeFunction('convertToInteractive',\n",
              "                                                     [key], {});\n",
              "          if (!dataTable) return;\n",
              "\n",
              "          const docLinkHtml = 'Like what you see? Visit the ' +\n",
              "            '<a target=\"_blank\" href=https://colab.research.google.com/notebooks/data_table.ipynb>data table notebook</a>'\n",
              "            + ' to learn more about interactive tables.';\n",
              "          element.innerHTML = '';\n",
              "          dataTable['output_type'] = 'display_data';\n",
              "          await google.colab.output.renderOutput(dataTable, element);\n",
              "          const docLink = document.createElement('div');\n",
              "          docLink.innerHTML = docLinkHtml;\n",
              "          element.appendChild(docLink);\n",
              "        }\n",
              "      </script>\n",
              "    </div>\n",
              "  </div>\n",
              "  "
            ]
          },
          "metadata": {},
          "execution_count": 33
        }
      ]
    },
    {
      "cell_type": "code",
      "source": [
        "data_j.columns = ['edad', 'imc', 'hijos', 'prima', 'sexo_mujer', 'sexo_hombre', 'fumador_no', 'fumador_si', 'region_noreste', 'region_noroeste', 'region_sureste', 'region_suroeste']\n",
        "data_j.head()"
      ],
      "metadata": {
        "colab": {
          "base_uri": "https://localhost:8080/",
          "height": 270
        },
        "id": "zqLdJzccrJOu",
        "outputId": "95be9e1b-5c43-4ab6-b251-eeac4b9c3384"
      },
      "execution_count": 35,
      "outputs": [
        {
          "output_type": "execute_result",
          "data": {
            "text/plain": [
              "   edad     imc  hijos        prima  sexo_mujer  sexo_hombre  fumador_no  \\\n",
              "0    19  27.900      0  16884.92400           1            0           0   \n",
              "1    18  33.770      1   1725.55230           0            1           1   \n",
              "2    28  33.000      3   4449.46200           0            1           1   \n",
              "3    33  22.705      0  21984.47061           0            1           1   \n",
              "4    32  28.880      0   3866.85520           0            1           1   \n",
              "\n",
              "   fumador_si  region_noreste  region_noroeste  region_sureste  \\\n",
              "0           1               0                0               0   \n",
              "1           0               0                0               1   \n",
              "2           0               0                0               1   \n",
              "3           0               0                1               0   \n",
              "4           0               0                1               0   \n",
              "\n",
              "   region_suroeste  \n",
              "0                1  \n",
              "1                0  \n",
              "2                0  \n",
              "3                0  \n",
              "4                0  "
            ],
            "text/html": [
              "\n",
              "  <div id=\"df-d88d9708-e5d8-4412-bf4f-f2ab1a946b79\">\n",
              "    <div class=\"colab-df-container\">\n",
              "      <div>\n",
              "<style scoped>\n",
              "    .dataframe tbody tr th:only-of-type {\n",
              "        vertical-align: middle;\n",
              "    }\n",
              "\n",
              "    .dataframe tbody tr th {\n",
              "        vertical-align: top;\n",
              "    }\n",
              "\n",
              "    .dataframe thead th {\n",
              "        text-align: right;\n",
              "    }\n",
              "</style>\n",
              "<table border=\"1\" class=\"dataframe\">\n",
              "  <thead>\n",
              "    <tr style=\"text-align: right;\">\n",
              "      <th></th>\n",
              "      <th>edad</th>\n",
              "      <th>imc</th>\n",
              "      <th>hijos</th>\n",
              "      <th>prima</th>\n",
              "      <th>sexo_mujer</th>\n",
              "      <th>sexo_hombre</th>\n",
              "      <th>fumador_no</th>\n",
              "      <th>fumador_si</th>\n",
              "      <th>region_noreste</th>\n",
              "      <th>region_noroeste</th>\n",
              "      <th>region_sureste</th>\n",
              "      <th>region_suroeste</th>\n",
              "    </tr>\n",
              "  </thead>\n",
              "  <tbody>\n",
              "    <tr>\n",
              "      <th>0</th>\n",
              "      <td>19</td>\n",
              "      <td>27.900</td>\n",
              "      <td>0</td>\n",
              "      <td>16884.92400</td>\n",
              "      <td>1</td>\n",
              "      <td>0</td>\n",
              "      <td>0</td>\n",
              "      <td>1</td>\n",
              "      <td>0</td>\n",
              "      <td>0</td>\n",
              "      <td>0</td>\n",
              "      <td>1</td>\n",
              "    </tr>\n",
              "    <tr>\n",
              "      <th>1</th>\n",
              "      <td>18</td>\n",
              "      <td>33.770</td>\n",
              "      <td>1</td>\n",
              "      <td>1725.55230</td>\n",
              "      <td>0</td>\n",
              "      <td>1</td>\n",
              "      <td>1</td>\n",
              "      <td>0</td>\n",
              "      <td>0</td>\n",
              "      <td>0</td>\n",
              "      <td>1</td>\n",
              "      <td>0</td>\n",
              "    </tr>\n",
              "    <tr>\n",
              "      <th>2</th>\n",
              "      <td>28</td>\n",
              "      <td>33.000</td>\n",
              "      <td>3</td>\n",
              "      <td>4449.46200</td>\n",
              "      <td>0</td>\n",
              "      <td>1</td>\n",
              "      <td>1</td>\n",
              "      <td>0</td>\n",
              "      <td>0</td>\n",
              "      <td>0</td>\n",
              "      <td>1</td>\n",
              "      <td>0</td>\n",
              "    </tr>\n",
              "    <tr>\n",
              "      <th>3</th>\n",
              "      <td>33</td>\n",
              "      <td>22.705</td>\n",
              "      <td>0</td>\n",
              "      <td>21984.47061</td>\n",
              "      <td>0</td>\n",
              "      <td>1</td>\n",
              "      <td>1</td>\n",
              "      <td>0</td>\n",
              "      <td>0</td>\n",
              "      <td>1</td>\n",
              "      <td>0</td>\n",
              "      <td>0</td>\n",
              "    </tr>\n",
              "    <tr>\n",
              "      <th>4</th>\n",
              "      <td>32</td>\n",
              "      <td>28.880</td>\n",
              "      <td>0</td>\n",
              "      <td>3866.85520</td>\n",
              "      <td>0</td>\n",
              "      <td>1</td>\n",
              "      <td>1</td>\n",
              "      <td>0</td>\n",
              "      <td>0</td>\n",
              "      <td>1</td>\n",
              "      <td>0</td>\n",
              "      <td>0</td>\n",
              "    </tr>\n",
              "  </tbody>\n",
              "</table>\n",
              "</div>\n",
              "      <button class=\"colab-df-convert\" onclick=\"convertToInteractive('df-d88d9708-e5d8-4412-bf4f-f2ab1a946b79')\"\n",
              "              title=\"Convert this dataframe to an interactive table.\"\n",
              "              style=\"display:none;\">\n",
              "        \n",
              "  <svg xmlns=\"http://www.w3.org/2000/svg\" height=\"24px\"viewBox=\"0 0 24 24\"\n",
              "       width=\"24px\">\n",
              "    <path d=\"M0 0h24v24H0V0z\" fill=\"none\"/>\n",
              "    <path d=\"M18.56 5.44l.94 2.06.94-2.06 2.06-.94-2.06-.94-.94-2.06-.94 2.06-2.06.94zm-11 1L8.5 8.5l.94-2.06 2.06-.94-2.06-.94L8.5 2.5l-.94 2.06-2.06.94zm10 10l.94 2.06.94-2.06 2.06-.94-2.06-.94-.94-2.06-.94 2.06-2.06.94z\"/><path d=\"M17.41 7.96l-1.37-1.37c-.4-.4-.92-.59-1.43-.59-.52 0-1.04.2-1.43.59L10.3 9.45l-7.72 7.72c-.78.78-.78 2.05 0 2.83L4 21.41c.39.39.9.59 1.41.59.51 0 1.02-.2 1.41-.59l7.78-7.78 2.81-2.81c.8-.78.8-2.07 0-2.86zM5.41 20L4 18.59l7.72-7.72 1.47 1.35L5.41 20z\"/>\n",
              "  </svg>\n",
              "      </button>\n",
              "      \n",
              "  <style>\n",
              "    .colab-df-container {\n",
              "      display:flex;\n",
              "      flex-wrap:wrap;\n",
              "      gap: 12px;\n",
              "    }\n",
              "\n",
              "    .colab-df-convert {\n",
              "      background-color: #E8F0FE;\n",
              "      border: none;\n",
              "      border-radius: 50%;\n",
              "      cursor: pointer;\n",
              "      display: none;\n",
              "      fill: #1967D2;\n",
              "      height: 32px;\n",
              "      padding: 0 0 0 0;\n",
              "      width: 32px;\n",
              "    }\n",
              "\n",
              "    .colab-df-convert:hover {\n",
              "      background-color: #E2EBFA;\n",
              "      box-shadow: 0px 1px 2px rgba(60, 64, 67, 0.3), 0px 1px 3px 1px rgba(60, 64, 67, 0.15);\n",
              "      fill: #174EA6;\n",
              "    }\n",
              "\n",
              "    [theme=dark] .colab-df-convert {\n",
              "      background-color: #3B4455;\n",
              "      fill: #D2E3FC;\n",
              "    }\n",
              "\n",
              "    [theme=dark] .colab-df-convert:hover {\n",
              "      background-color: #434B5C;\n",
              "      box-shadow: 0px 1px 3px 1px rgba(0, 0, 0, 0.15);\n",
              "      filter: drop-shadow(0px 1px 2px rgba(0, 0, 0, 0.3));\n",
              "      fill: #FFFFFF;\n",
              "    }\n",
              "  </style>\n",
              "\n",
              "      <script>\n",
              "        const buttonEl =\n",
              "          document.querySelector('#df-d88d9708-e5d8-4412-bf4f-f2ab1a946b79 button.colab-df-convert');\n",
              "        buttonEl.style.display =\n",
              "          google.colab.kernel.accessAllowed ? 'block' : 'none';\n",
              "\n",
              "        async function convertToInteractive(key) {\n",
              "          const element = document.querySelector('#df-d88d9708-e5d8-4412-bf4f-f2ab1a946b79');\n",
              "          const dataTable =\n",
              "            await google.colab.kernel.invokeFunction('convertToInteractive',\n",
              "                                                     [key], {});\n",
              "          if (!dataTable) return;\n",
              "\n",
              "          const docLinkHtml = 'Like what you see? Visit the ' +\n",
              "            '<a target=\"_blank\" href=https://colab.research.google.com/notebooks/data_table.ipynb>data table notebook</a>'\n",
              "            + ' to learn more about interactive tables.';\n",
              "          element.innerHTML = '';\n",
              "          dataTable['output_type'] = 'display_data';\n",
              "          await google.colab.output.renderOutput(dataTable, element);\n",
              "          const docLink = document.createElement('div');\n",
              "          docLink.innerHTML = docLinkHtml;\n",
              "          element.appendChild(docLink);\n",
              "        }\n",
              "      </script>\n",
              "    </div>\n",
              "  </div>\n",
              "  "
            ]
          },
          "metadata": {},
          "execution_count": 35
        }
      ]
    },
    {
      "cell_type": "markdown",
      "source": [
        "##**4. Elaboración del modelo**\n",
        "En este fragmento de código se  construye un modelo de regresión lineal. Primero, se selecciona la variable objetivo \"prima\" del conjunto de datos y se elimina de las variables independientes. Luego, se muestran las primeras filas de ambas variables. A continuación, se separan los datos en un conjunto para el entrenamiento y otro para el test. El conjunto de entrenamiento se utiliza para ajustar el modelo y el conjunto de test se utiliza para hacer predicciones y determinar el rendimiento del modelo. Finalmente, se crea un objeto de la clase LinearRegression y se ajusta el modelo con los datos de entrenamiento."
      ],
      "metadata": {
        "id": "z6l32CsotVfe"
      }
    },
    {
      "cell_type": "code",
      "source": [
        "# Se elige la variable objetivo, en este caso \"prima\".\n",
        "Y=data_j['prima']\n",
        "# De las variables, se elimina la variable \"prima\".\n",
        "X=data_j.drop(['prima'], axis=1)\n",
        "\n",
        "# Mostramos las primeras filas de nuestras variables independientes\n",
        "print(X.head())\n",
        "\n",
        "# Mostramos las primeras filas de nuestra variable dependiente\n",
        "print(Y.head())"
      ],
      "metadata": {
        "colab": {
          "base_uri": "https://localhost:8080/"
        },
        "id": "I2upQHZbuCUn",
        "outputId": "8e1befc4-5db8-4461-f696-0c16893f5dce"
      },
      "execution_count": 36,
      "outputs": [
        {
          "output_type": "stream",
          "name": "stdout",
          "text": [
            "   edad     imc  hijos  sexo_mujer  sexo_hombre  fumador_no  fumador_si  \\\n",
            "0    19  27.900      0           1            0           0           1   \n",
            "1    18  33.770      1           0            1           1           0   \n",
            "2    28  33.000      3           0            1           1           0   \n",
            "3    33  22.705      0           0            1           1           0   \n",
            "4    32  28.880      0           0            1           1           0   \n",
            "\n",
            "   region_noreste  region_noroeste  region_sureste  region_suroeste  \n",
            "0               0                0               0                1  \n",
            "1               0                0               1                0  \n",
            "2               0                0               1                0  \n",
            "3               0                1               0                0  \n",
            "4               0                1               0                0  \n",
            "0    16884.92400\n",
            "1     1725.55230\n",
            "2     4449.46200\n",
            "3    21984.47061\n",
            "4     3866.85520\n",
            "Name: prima, dtype: float64\n"
          ]
        }
      ]
    },
    {
      "cell_type": "markdown",
      "source": [
        "Después, dividimos nuestros datos en dos conjuntos: uno para entrenar el modelo y otro para evaluar su rendimiento con nuevos datos. El conjunto de entrenamiento se usa para ajustar el modelo, mientras que el conjunto de prueba se utiliza para hacer predicciones y compararlas con los valores esperados para medir su rendimiento con una métrica seleccionada."
      ],
      "metadata": {
        "id": "4zgl9VPmu_A0"
      }
    },
    {
      "cell_type": "code",
      "source": [
        "# Realizamos la división entrenamiento - test. Se deja 20% de los datos para el test.\n",
        "X_train, X_test, Y_train, Y_test = train_test_split( X, Y, test_size=0.2, random_state=0)\n",
        "\n",
        "# Creamos un objeto de la clase LinearRegression,\n",
        "# para construir el modelo\n",
        "modelo_regresion = LinearRegression()\n",
        "\n",
        "# Ajustamos el modelo con los datos de entrenamiento\n",
        "modelo_regresion.fit(X_train,Y_train)\n"
      ],
      "metadata": {
        "colab": {
          "base_uri": "https://localhost:8080/"
        },
        "id": "QSl9Tvfcxv3c",
        "outputId": "9b861a97-b581-421c-d71d-811357a5f753"
      },
      "execution_count": 37,
      "outputs": [
        {
          "output_type": "execute_result",
          "data": {
            "text/plain": [
              "LinearRegression()"
            ]
          },
          "metadata": {},
          "execution_count": 37
        }
      ]
    },
    {
      "cell_type": "markdown",
      "source": [
        "##**Evaluación del modelo**\n",
        "En esta parte se evaluamos el desempeño del modelo de regresión utilizando las métricas Mean-Squared-Error (MSE), Mean-Absolute-Error (MAE) y R² o Coeficiente de Determinación. Luego, se obtienen las predicciones del modelo sobre los conjuntos de entrenamiento y prueba y se calculan las métricas correspondientes. Finalmente, se entrena el modelo con todos los datos y se imprimen los coeficientes de regresión."
      ],
      "metadata": {
        "id": "Rs3wPWEXvedO"
      }
    },
    {
      "cell_type": "code",
      "source": [
        "# Obtener las predicciones del modelo sobre el conjunto de entrenamiento\n",
        "y_pred_train = modelo_regresion.predict(X_train)\n",
        "\n",
        "# Obtener las métricas a partir de la predicción y la base de evaluación (valores reales)\n",
        "print(\"MSE (Conjunto de entrenamiento): %.2f\" % mean_squared_error(Y_train, y_pred_train, squared=False))\n",
        "print(\"MAE (Conjunto de entrenamiento): %.2f\" % mean_absolute_error(Y_train, y_pred_train))\n",
        "print('R² (Conjunto de entrenamiento): %.2f' % r2_score(Y_train, y_pred_train))"
      ],
      "metadata": {
        "colab": {
          "base_uri": "https://localhost:8080/"
        },
        "id": "jcSk-oqJvwrT",
        "outputId": "ff6ba0ce-bc86-43b6-de46-583cd8a40ccb"
      },
      "execution_count": 39,
      "outputs": [
        {
          "output_type": "stream",
          "name": "stdout",
          "text": [
            "MSE (Conjunto de entrenamiento): 6140.16\n",
            "MAE (Conjunto de entrenamiento): 4234.55\n",
            "R² (Conjunto de entrenamiento): 0.74\n"
          ]
        }
      ]
    },
    {
      "cell_type": "code",
      "source": [
        "# Obtener las predicciones del modelo sobre el conjunto test\n",
        "y_pred_test = modelo_regresion.predict(X_test)\n",
        "\n",
        "# Obtener las métricas a partir de la predicción y la base de evaluación (valores reales)\n",
        "print(\"MSE (Conjunto de test): %.2f\" % mean_squared_error(Y_test, y_pred_test, squared=False))\n",
        "print(\"MAE (Conjunto de test): %.2f\" % mean_absolute_error(Y_test, y_pred_test))\n",
        "print('R² (Conjunto de test): %.2f' % r2_score(Y_test, y_pred_test))"
      ],
      "metadata": {
        "colab": {
          "base_uri": "https://localhost:8080/"
        },
        "id": "BYf9mhY6xxE-",
        "outputId": "9cc70fa1-b716-42e6-a678-1563ae25460c"
      },
      "execution_count": 40,
      "outputs": [
        {
          "output_type": "stream",
          "name": "stdout",
          "text": [
            "MSE (Conjunto de test): 5641.63\n",
            "MAE (Conjunto de test): 3933.27\n",
            "R² (Conjunto de test): 0.80\n"
          ]
        }
      ]
    },
    {
      "cell_type": "code",
      "source": [
        "# Ajustar el modelo con todos los datos\n",
        "modelo_regresion.fit(X,Y)\n",
        "\n",
        "# Visualizar los parámetros del modelo (coeficientes de regresión)\n",
        "print(modelo_regresion.coef_)"
      ],
      "metadata": {
        "colab": {
          "base_uri": "https://localhost:8080/"
        },
        "id": "HrYwJ4UtwIS6",
        "outputId": "a9abb2ff-2b38-469f-89d5-659c274a0430"
      },
      "execution_count": 41,
      "outputs": [
        {
          "output_type": "stream",
          "name": "stdout",
          "text": [
            "[   256.85635254    339.19345361    475.50054515     65.6571797\n",
            "    -65.6571797  -11924.26727096  11924.26727096    587.00923503\n",
            "    234.0453356    -448.01281436   -373.04175627]\n"
          ]
        }
      ]
    },
    {
      "cell_type": "markdown",
      "source": [
        "##**6.Interpretación del modelo**\n",
        "En esta parte se genera un reporte estadístico del modelo utilizando la librería statsmodels. El reporte incluye información sobre los coeficientes de regresión, los valores p, el R-cuadrada, entre otros. El ajuste del modelo se hace utilizando el método OLS (Ordinary Least Squares), el cual busca minimizar la suma de los cuadrados de las diferencias entre los valores observados y los valores predichos."
      ],
      "metadata": {
        "id": "ArfCPRfdwTIA"
      }
    },
    {
      "cell_type": "code",
      "source": [
        "# Ajustar el modelo utilizando OLS (Ordinary Least Squares)\n",
        "model = sm.OLS(Y, X).fit()\n",
        "\n",
        "# Generar el reporte estadístico del modelo\n",
        "print(model.summary())\n"
      ],
      "metadata": {
        "colab": {
          "base_uri": "https://localhost:8080/"
        },
        "id": "OroSCPxxzvHn",
        "outputId": "0e28b9c3-3233-426d-e6b1-43266eb5ee7f"
      },
      "execution_count": 42,
      "outputs": [
        {
          "output_type": "stream",
          "name": "stdout",
          "text": [
            "                            OLS Regression Results                            \n",
            "==============================================================================\n",
            "Dep. Variable:                  prima   R-squared:                       0.751\n",
            "Model:                            OLS   Adj. R-squared:                  0.749\n",
            "Method:                 Least Squares   F-statistic:                     500.8\n",
            "Date:                Sun, 22 Jan 2023   Prob (F-statistic):               0.00\n",
            "Time:                        04:36:01   Log-Likelihood:                -13548.\n",
            "No. Observations:                1338   AIC:                         2.711e+04\n",
            "Df Residuals:                    1329   BIC:                         2.716e+04\n",
            "Df Model:                           8                                         \n",
            "Covariance Type:            nonrobust                                         \n",
            "===================================================================================\n",
            "                      coef    std err          t      P>|t|      [0.025      0.975]\n",
            "-----------------------------------------------------------------------------------\n",
            "edad              256.8564     11.899     21.587      0.000     233.514     280.199\n",
            "imc               339.1935     28.599     11.860      0.000     283.088     395.298\n",
            "hijos             475.5005    137.804      3.451      0.001     205.163     745.838\n",
            "sexo_mujer       -201.1179    418.353     -0.481      0.631   -1021.823     619.587\n",
            "sexo_hombre      -332.4323    425.031     -0.782      0.434   -1166.237     501.372\n",
            "fumador_no      -1.219e+04    419.605    -29.054      0.000    -1.3e+04   -1.14e+04\n",
            "fumador_si       1.166e+04    457.738     25.468      0.000    1.08e+04    1.26e+04\n",
            "region_noreste    453.6217    332.155      1.366      0.172    -197.983    1105.226\n",
            "region_noroeste   100.6578    333.891      0.301      0.763    -554.352     755.668\n",
            "region_sureste   -581.4004    381.765     -1.523      0.128   -1330.328     167.527\n",
            "region_suroeste  -506.4293    351.178     -1.442      0.150   -1195.353     182.494\n",
            "==============================================================================\n",
            "Omnibus:                      300.366   Durbin-Watson:                   2.088\n",
            "Prob(Omnibus):                  0.000   Jarque-Bera (JB):              718.887\n",
            "Skew:                           1.211   Prob(JB):                    7.86e-157\n",
            "Kurtosis:                       5.651   Cond. No.                     9.06e+17\n",
            "==============================================================================\n",
            "\n",
            "Notes:\n",
            "[1] Standard Errors assume that the covariance matrix of the errors is correctly specified.\n",
            "[2] The smallest eigenvalue is 4.28e-30. This might indicate that there are\n",
            "strong multicollinearity problems or that the design matrix is singular.\n"
          ]
        }
      ]
    },
    {
      "cell_type": "markdown",
      "source": [
        "###!Atención¡\n",
        "Los coeficientes de regresión son los valores que indican el cambio en la variable dependiente (Y) por cada unidad de cambio en la variable independiente (X). Por ejemplo, si el coeficiente de regresión es positivo, entonces se espera que a medida que aumenta X, también aumente Y, y si es negativo, se espera que a medida que aumenta X, disminuya Y.\n",
        "\n",
        "El valor P es utilizado para determinar la significancia estadística de los coeficientes de regresión. Un valor P bajo (menor a 0.05) sugiere que es muy probable que el coeficiente de regresión no sea cero, lo que significa que hay una relación significativa entre la variable independiente y la variable dependiente.\n",
        "\n",
        "El R-cuadrado es una medida de bondad de ajuste del modelo, que indica qué porcentaje de la variabilidad en la variable dependiente se explica por la variable independiente. Un R-cuadrado cercano a 1 indica un buen ajuste del modelo, mientras que un R-cuadrado cercano a 0 indica un mal ajuste del modelo."
      ],
      "metadata": {
        "id": "YfYKWBMMzgO8"
      }
    },
    {
      "cell_type": "markdown",
      "source": [
        "##**7.Almacenamiento del modelo**\n",
        "Finalmente esta parte guarda el modelo de regresión en un archivo utilizando la librería joblib. El modelo se guarda en un archivo con el nombre \"ModeloRegresion.joblib\", y se puede recuperar más tarde utilizando la función load de joblib, asignando el modelo a una variable. Esto es útil ya que permite guardar el modelo entrenado y utilizarlo más tarde sin tener que volver a entrenarlo. El modelo guardado en un archivo puede ser utilizado en producción."
      ],
      "metadata": {
        "id": "Vv8VemBYxGEp"
      }
    },
    {
      "cell_type": "code",
      "source": [
        "# Importar la librería joblib para guardar el modelo\n",
        "import joblib\n",
        "\n",
        "# Guardar el modelo en un archivo con el nombre \"ModeloRegresion.joblib\"\n",
        "joblib.dump(modelo_regresion, 'ModeloRegresion.joblib')\n",
        "\n",
        "# Cargar el modelo guardado en una variable\n",
        "modelo_recuperado = joblib.load('ModeloRegresion.joblib')\n"
      ],
      "metadata": {
        "id": "xAVytpxZ07XA"
      },
      "execution_count": 43,
      "outputs": []
    },
    {
      "cell_type": "markdown",
      "source": [
        "##**7.Bibliografía**\n",
        "* Raschka, S., & Mirjalili, V. (2018). Python Machine Learning: Machine Learning and Deep Learning with Python, scikit-learn, and TensorFlow (2nd ed.). Packt Publishing.\n",
        "\n",
        "* Müller, A., & Guido, S. (2016). Introduction to machine learning with Python: A guide for data scientists. O'Reilly Media, Inc.\n",
        "\n",
        "* VanderPlas, J. (2016). Python data science handbook: essential tools for working with data. O'Reilly Media, Inc.\n",
        "\n",
        "* Medical Cost Personal Datasets (2018). Recuperado de https://www.kaggle.com/datasets/mirichoi0218/insurance/discussion"
      ],
      "metadata": {
        "id": "HoCNRT1az-7q"
      }
    }
  ]
}